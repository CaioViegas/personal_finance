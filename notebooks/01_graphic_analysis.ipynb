{
 "cells": [
  {
   "cell_type": "code",
   "execution_count": 1,
   "id": "b6a059de",
   "metadata": {},
   "outputs": [],
   "source": [
    "import pandas as pd\n",
    "import plotly.express as px\n",
    "import plotly.graph_objects as go\n",
    "from plotly.subplots import make_subplots"
   ]
  },
  {
   "cell_type": "code",
   "execution_count": 2,
   "id": "a933eca7",
   "metadata": {},
   "outputs": [],
   "source": [
    "df = pd.read_csv(\"../data/transformed/transformed_finance_data.csv\")"
   ]
  },
  {
   "cell_type": "code",
   "execution_count": 5,
   "id": "777d899c",
   "metadata": {},
   "outputs": [
    {
     "name": "stdout",
     "output_type": "stream",
     "text": [
      "<class 'pandas.core.frame.DataFrame'>\n",
      "RangeIndex: 32424 entries, 0 to 32423\n",
      "Data columns (total 35 columns):\n",
      " #   Column                       Non-Null Count  Dtype  \n",
      "---  ------                       --------------  -----  \n",
      " 0   user_id                      32424 non-null  object \n",
      " 1   age                          32424 non-null  int64  \n",
      " 2   gender                       32424 non-null  object \n",
      " 3   education_level              32424 non-null  object \n",
      " 4   employment_status            32424 non-null  object \n",
      " 5   job_title                    32424 non-null  object \n",
      " 6   monthly_income_usd           32424 non-null  float64\n",
      " 7   monthly_expenses_usd         32424 non-null  float64\n",
      " 8   savings_usd                  32424 non-null  float64\n",
      " 9   has_loan                     32424 non-null  object \n",
      " 10  loan_type                    12995 non-null  object \n",
      " 11  loan_amount_usd              32424 non-null  float64\n",
      " 12  loan_term_months             32424 non-null  int64  \n",
      " 13  monthly_emi_usd              32424 non-null  float64\n",
      " 14  loan_interest_rate_pct       32424 non-null  float64\n",
      " 15  debt_to_income_ratio         32424 non-null  float64\n",
      " 16  credit_score                 32424 non-null  int64  \n",
      " 17  savings_to_income_ratio      32424 non-null  float64\n",
      " 18  region                       32424 non-null  object \n",
      " 19  record_date                  32424 non-null  object \n",
      " 20  record_year                  32424 non-null  int64  \n",
      " 21  record_month                 32424 non-null  int64  \n",
      " 22  record_day                   32424 non-null  int64  \n",
      " 23  record_weekday               32424 non-null  int64  \n",
      " 24  record_quarter               32424 non-null  int64  \n",
      " 25  record_is_month_end          32424 non-null  int64  \n",
      " 26  net_income_usd               32424 non-null  float64\n",
      " 27  expense_ratio                32424 non-null  float64\n",
      " 28  emi_to_income_ratio          32424 non-null  float64\n",
      " 29  savings_rate_monthly         32424 non-null  float64\n",
      " 30  debt_to_income_ratio_filled  32424 non-null  float64\n",
      " 31  credit_bucket                32424 non-null  object \n",
      " 32  loan_term_years              32424 non-null  float64\n",
      " 33  loan_active                  32424 non-null  int64  \n",
      " 34  financial_stress_score       32424 non-null  float64\n",
      "dtypes: float64(15), int64(10), object(10)\n",
      "memory usage: 8.7+ MB\n"
     ]
    }
   ],
   "source": [
    "df.info()"
   ]
  },
  {
   "cell_type": "code",
   "execution_count": null,
   "id": "26fded4d",
   "metadata": {},
   "outputs": [],
   "source": []
  },
  {
   "cell_type": "code",
   "execution_count": null,
   "id": "f7541cef",
   "metadata": {},
   "outputs": [],
   "source": []
  },
  {
   "cell_type": "code",
   "execution_count": null,
   "id": "114d9ec3",
   "metadata": {},
   "outputs": [],
   "source": []
  },
  {
   "cell_type": "code",
   "execution_count": null,
   "id": "20ff50a7",
   "metadata": {},
   "outputs": [],
   "source": []
  },
  {
   "cell_type": "code",
   "execution_count": null,
   "id": "46be3e8b",
   "metadata": {},
   "outputs": [],
   "source": []
  },
  {
   "cell_type": "code",
   "execution_count": null,
   "id": "ffe17c54",
   "metadata": {},
   "outputs": [],
   "source": []
  },
  {
   "cell_type": "code",
   "execution_count": null,
   "id": "e4090903",
   "metadata": {},
   "outputs": [],
   "source": []
  },
  {
   "cell_type": "code",
   "execution_count": null,
   "id": "e13f1eeb",
   "metadata": {},
   "outputs": [],
   "source": []
  },
  {
   "cell_type": "code",
   "execution_count": null,
   "id": "a5bf6fc2",
   "metadata": {},
   "outputs": [],
   "source": []
  },
  {
   "cell_type": "code",
   "execution_count": null,
   "id": "10e87685",
   "metadata": {},
   "outputs": [],
   "source": []
  },
  {
   "cell_type": "code",
   "execution_count": null,
   "id": "e92c1ecf",
   "metadata": {},
   "outputs": [],
   "source": []
  },
  {
   "cell_type": "code",
   "execution_count": null,
   "id": "e61caf90",
   "metadata": {},
   "outputs": [],
   "source": []
  },
  {
   "cell_type": "code",
   "execution_count": null,
   "id": "ba3437bd",
   "metadata": {},
   "outputs": [],
   "source": []
  }
 ],
 "metadata": {
  "kernelspec": {
   "display_name": "3.13.1",
   "language": "python",
   "name": "python3"
  },
  "language_info": {
   "codemirror_mode": {
    "name": "ipython",
    "version": 3
   },
   "file_extension": ".py",
   "mimetype": "text/x-python",
   "name": "python",
   "nbconvert_exporter": "python",
   "pygments_lexer": "ipython3",
   "version": "3.13.1"
  }
 },
 "nbformat": 4,
 "nbformat_minor": 5
}
