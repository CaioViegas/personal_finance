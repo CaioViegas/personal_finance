{
 "cells": [
  {
   "cell_type": "code",
   "execution_count": null,
   "id": "b6a059de",
   "metadata": {},
   "outputs": [],
   "source": [
    "import math\n",
    "import pandas as pd\n",
    "import numpy as np\n",
    "import plotly.express as px\n",
    "import plotly.graph_objects as go\n",
    "from scipy.stats import gaussian_kde\n",
    "from plotly.subplots import make_subplots"
   ]
  },
  {
   "cell_type": "code",
   "execution_count": 3,
   "id": "a933eca7",
   "metadata": {},
   "outputs": [],
   "source": [
    "df = pd.read_csv(\"../data/transformed/transformed_finance_data.csv\")"
   ]
  },
  {
   "cell_type": "code",
   "execution_count": 4,
   "id": "777d899c",
   "metadata": {},
   "outputs": [
    {
     "name": "stdout",
     "output_type": "stream",
     "text": [
      "<class 'pandas.core.frame.DataFrame'>\n",
      "RangeIndex: 32424 entries, 0 to 32423\n",
      "Data columns (total 35 columns):\n",
      " #   Column                       Non-Null Count  Dtype  \n",
      "---  ------                       --------------  -----  \n",
      " 0   user_id                      32424 non-null  object \n",
      " 1   age                          32424 non-null  int64  \n",
      " 2   gender                       32424 non-null  object \n",
      " 3   education_level              32424 non-null  object \n",
      " 4   employment_status            32424 non-null  object \n",
      " 5   job_title                    32424 non-null  object \n",
      " 6   monthly_income_usd           32424 non-null  float64\n",
      " 7   monthly_expenses_usd         32424 non-null  float64\n",
      " 8   savings_usd                  32424 non-null  float64\n",
      " 9   has_loan                     32424 non-null  object \n",
      " 10  loan_type                    12995 non-null  object \n",
      " 11  loan_amount_usd              32424 non-null  float64\n",
      " 12  loan_term_months             32424 non-null  int64  \n",
      " 13  monthly_emi_usd              32424 non-null  float64\n",
      " 14  loan_interest_rate_pct       32424 non-null  float64\n",
      " 15  debt_to_income_ratio         32424 non-null  float64\n",
      " 16  credit_score                 32424 non-null  int64  \n",
      " 17  savings_to_income_ratio      32424 non-null  float64\n",
      " 18  region                       32424 non-null  object \n",
      " 19  record_date                  32424 non-null  object \n",
      " 20  record_year                  32424 non-null  int64  \n",
      " 21  record_month                 32424 non-null  int64  \n",
      " 22  record_day                   32424 non-null  int64  \n",
      " 23  record_weekday               32424 non-null  int64  \n",
      " 24  record_quarter               32424 non-null  int64  \n",
      " 25  record_is_month_end          32424 non-null  int64  \n",
      " 26  net_income_usd               32424 non-null  float64\n",
      " 27  expense_ratio                32424 non-null  float64\n",
      " 28  emi_to_income_ratio          32424 non-null  float64\n",
      " 29  savings_rate_monthly         32424 non-null  float64\n",
      " 30  debt_to_income_ratio_filled  32424 non-null  float64\n",
      " 31  credit_bucket                32424 non-null  object \n",
      " 32  loan_term_years              32424 non-null  float64\n",
      " 33  loan_active                  32424 non-null  int64  \n",
      " 34  financial_stress_score       32424 non-null  float64\n",
      "dtypes: float64(15), int64(10), object(10)\n",
      "memory usage: 8.7+ MB\n"
     ]
    }
   ],
   "source": [
    "df.info()"
   ]
  },
  {
   "cell_type": "markdown",
   "id": "063cad4f",
   "metadata": {},
   "source": [
    "##### Análise Univariada"
   ]
  },
  {
   "cell_type": "code",
   "execution_count": 5,
   "id": "26fded4d",
   "metadata": {},
   "outputs": [],
   "source": [
    "categorical_cols = [col for col in df.columns if df[col].dtype == \"object\"]\n",
    "numeric_cols = [col for col in df.columns if df[col].dtype in [\"int64\", \"float64\"]]"
   ]
  },
  {
   "cell_type": "code",
   "execution_count": 13,
   "id": "da7c3a13",
   "metadata": {},
   "outputs": [],
   "source": [
    "categorical_cols = list(set(categorical_cols) - {\"user_id\", \"record_date\"})"
   ]
  },
  {
   "cell_type": "code",
   "execution_count": 7,
   "id": "f7541cef",
   "metadata": {},
   "outputs": [],
   "source": [
    "def plot_multiple_categorical(df, cols):\n",
    "    n = len(cols)\n",
    "    cols_per_row = 3\n",
    "    rows = math.ceil(n / cols_per_row)\n",
    "\n",
    "    fig = make_subplots(\n",
    "        rows=rows, \n",
    "        cols=cols_per_row,\n",
    "        subplot_titles=[col.replace(\"_\", \" \").title() for col in cols],\n",
    "        horizontal_spacing=0.08,\n",
    "        vertical_spacing=0.12\n",
    "    )\n",
    "\n",
    "    palette = px.colors.qualitative.Bold  \n",
    "\n",
    "    for i, col in enumerate(cols):\n",
    "        row = i // cols_per_row + 1\n",
    "        col_pos = i % cols_per_row + 1\n",
    "\n",
    "        counts = df[col].value_counts().reset_index()\n",
    "        counts.columns = [col, \"count\"]\n",
    "        counts[\"percent\"] = counts[\"count\"] / counts[\"count\"].sum() * 100\n",
    "\n",
    "        fig.add_trace(\n",
    "            go.Bar(\n",
    "                x=counts[col],\n",
    "                y=counts[\"count\"],\n",
    "                text=[f\"{c} ({p:.1f}%)\" for c, p in zip(counts[\"count\"], counts[\"percent\"])],\n",
    "                textposition=\"auto\",\n",
    "                marker_color=palette[i % len(palette)],\n",
    "                name=col.replace(\"_\", \" \").title()\n",
    "            ),\n",
    "            row=row, col=col_pos\n",
    "        )\n",
    "\n",
    "    fig.update_layout(\n",
    "        height=400*rows, \n",
    "        width=2100,\n",
    "        title_text=\"Distribuição de Variáveis Categóricas\",\n",
    "        title_x=0.5,\n",
    "        title_font=dict(size=24),\n",
    "        legend_title=\"Variável\",\n",
    "        legend=dict(\n",
    "            orientation=\"h\",\n",
    "            yanchor=\"bottom\",\n",
    "            y=-0.2,\n",
    "            xanchor=\"center\",\n",
    "            x=0.5\n",
    "        ),\n",
    "        margin=dict(l=50, r=50, t=80, b=50)\n",
    "    )\n",
    "\n",
    "    fig.show()"
   ]
  },
  {
   "cell_type": "code",
   "execution_count": null,
   "id": "114d9ec3",
   "metadata": {},
   "outputs": [],
   "source": [
    "def plot_multiple_numerical(df, cols=None, cols_per_row=3, bins=80):\n",
    "    if cols is None:\n",
    "        cols = df.select_dtypes(include=[np.number]).columns.tolist()\n",
    "    cols = [c for c in cols if df[c].nunique(dropna=True) > 1]\n",
    "\n",
    "    n = len(cols)\n",
    "    if n == 0:\n",
    "        raise ValueError(\"Nenhuma coluna numérica válida para plotar.\")\n",
    "\n",
    "    rows = math.ceil(n / cols_per_row)\n",
    "    max_vspace = 1.0 / (rows - 1) if rows > 1 else 0.3\n",
    "    vspace = min(0.12, max_vspace)\n",
    "\n",
    "    titles = [\n",
    "        f\"{c.replace('_',' ').title()}<br>Média: {df[c].mean():.2f} | Mediana: {df[c].median():.2f}\"\n",
    "        for c in cols\n",
    "    ]\n",
    "    titles += [\"\"] * (rows * cols_per_row - len(titles))\n",
    "\n",
    "    fig = make_subplots(\n",
    "        rows=rows,\n",
    "        cols=cols_per_row,\n",
    "        subplot_titles=tuple(titles),\n",
    "        horizontal_spacing=0.07,\n",
    "        vertical_spacing=vspace\n",
    "    )\n",
    "\n",
    "    for i, c in enumerate(cols):\n",
    "        r = i // cols_per_row + 1\n",
    "        k = i % cols_per_row + 1\n",
    "        x = df[c].dropna().values\n",
    "\n",
    "        fig.add_trace(\n",
    "            go.Histogram(x=x, nbinsx=bins, opacity=0.75, name=c, showlegend=False),\n",
    "            row=r, col=k\n",
    "        )\n",
    "\n",
    "        if x.size > 1 and np.isfinite(x).all():\n",
    "            kde = gaussian_kde(x)\n",
    "            xs = np.linspace(x.min(), x.max(), 200)\n",
    "            width = (x.max() - x.min()) / bins if bins > 0 else 1\n",
    "            ys = kde(xs) * len(x) * width \n",
    "            fig.add_trace(\n",
    "                go.Scatter(x=xs, y=ys, mode=\"lines\", name=f\"{c} density\", showlegend=False),\n",
    "                row=r, col=k\n",
    "            )\n",
    "\n",
    "    fig.update_layout(\n",
    "        height=max(380 * rows, 500),\n",
    "        width=360 * cols_per_row + 360,\n",
    "        title_text=\"Distribuições de Variáveis Numéricas\",\n",
    "        title_x=0.5,\n",
    "        margin=dict(l=40, r=40, t=70, b=40)\n",
    "    )\n",
    "    fig.show()\n"
   ]
  },
  {
   "cell_type": "code",
   "execution_count": 14,
   "id": "20ff50a7",
   "metadata": {},
   "outputs": [
    {
     "data": {
      "application/vnd.plotly.v1+json": {
       "config": {
        "plotlyServerURL": "https://plot.ly"
       },
       "data": [
        {
         "marker": {
          "color": "rgb(127, 60, 141)"
         },
         "name": "Region",
         "text": [
          "6581 (20.3%)",
          "6551 (20.2%)",
          "6519 (20.1%)",
          "6407 (19.8%)",
          "6366 (19.6%)"
         ],
         "textposition": "auto",
         "type": "bar",
         "x": [
          "North America",
          "Asia",
          "Europe",
          "Other",
          "Africa"
         ],
         "xaxis": "x",
         "y": {
          "bdata": "tRmXGXcZBxneGA==",
          "dtype": "i2"
         },
         "yaxis": "y"
        },
        {
         "marker": {
          "color": "rgb(17, 165, 121)"
         },
         "name": "Loan Type",
         "text": [
          "3284 (25.3%)",
          "3275 (25.2%)",
          "3261 (25.1%)",
          "3175 (24.4%)"
         ],
         "textposition": "auto",
         "type": "bar",
         "x": [
          "Home",
          "Education",
          "Business",
          "Car"
         ],
         "xaxis": "x2",
         "y": {
          "bdata": "1AzLDL0MZww=",
          "dtype": "i2"
         },
         "yaxis": "y2"
        },
        {
         "marker": {
          "color": "rgb(57, 105, 172)"
         },
         "name": "Gender",
         "text": [
          "15595 (48.1%)",
          "15550 (48.0%)",
          "1279 (3.9%)"
         ],
         "textposition": "auto",
         "type": "bar",
         "x": [
          "Male",
          "Female",
          "Other"
         ],
         "xaxis": "x3",
         "y": {
          "bdata": "6zy+PP8E",
          "dtype": "i2"
         },
         "yaxis": "y3"
        },
        {
         "marker": {
          "color": "rgb(242, 183, 1)"
         },
         "name": "Education Level",
         "text": [
          "13038 (40.2%)",
          "9673 (29.8%)",
          "6456 (19.9%)",
          "1638 (5.1%)",
          "1619 (5.0%)"
         ],
         "textposition": "auto",
         "type": "bar",
         "x": [
          "Bachelor",
          "Master",
          "High School",
          "Phd",
          "Other"
         ],
         "xaxis": "x4",
         "y": {
          "bdata": "7jLJJTgZZgZTBg==",
          "dtype": "i2"
         },
         "yaxis": "y4"
        },
        {
         "marker": {
          "color": "rgb(231, 63, 116)"
         },
         "name": "Job Title",
         "text": [
          "3698 (11.4%)",
          "3674 (11.3%)",
          "3621 (11.2%)",
          "3609 (11.1%)",
          "3606 (11.1%)",
          "3591 (11.1%)",
          "3567 (11.0%)",
          "3554 (11.0%)",
          "3504 (10.8%)"
         ],
         "textposition": "auto",
         "type": "bar",
         "x": [
          "Driver",
          "Teacher",
          "Manager",
          "Student",
          "Unemployed",
          "Accountant",
          "Salesperson",
          "Doctor",
          "Engineer"
         ],
         "xaxis": "x5",
         "y": {
          "bdata": "cg5aDiUOGQ4WDgcO7w3iDbAN",
          "dtype": "i2"
         },
         "yaxis": "y5"
        },
        {
         "marker": {
          "color": "rgb(128, 186, 90)"
         },
         "name": "Credit Bucket",
         "text": [
          "16455 (50.7%)",
          "5322 (16.4%)",
          "4112 (12.7%)",
          "3537 (10.9%)",
          "2998 (9.2%)"
         ],
         "textposition": "auto",
         "type": "bar",
         "x": [
          "Poor",
          "Fair",
          "Good",
          "Very Good",
          "Excellent"
         ],
         "xaxis": "x6",
         "y": {
          "bdata": "R0DKFBAQ0Q22Cw==",
          "dtype": "i2"
         },
         "yaxis": "y6"
        },
        {
         "marker": {
          "color": "rgb(230, 131, 16)"
         },
         "name": "Employment Status",
         "text": [
          "19410 (59.9%)",
          "6580 (20.3%)",
          "3220 (9.9%)",
          "3214 (9.9%)"
         ],
         "textposition": "auto",
         "type": "bar",
         "x": [
          "Employed",
          "Self-Employed",
          "Unemployed",
          "Student"
         ],
         "xaxis": "x7",
         "y": {
          "bdata": "0ku0GZQMjgw=",
          "dtype": "i2"
         },
         "yaxis": "y7"
        },
        {
         "marker": {
          "color": "rgb(0, 134, 149)"
         },
         "name": "Has Loan",
         "text": [
          "19429 (59.9%)",
          "12995 (40.1%)"
         ],
         "textposition": "auto",
         "type": "bar",
         "x": [
          "No",
          "Yes"
         ],
         "xaxis": "x8",
         "y": {
          "bdata": "5UvDMg==",
          "dtype": "i2"
         },
         "yaxis": "y8"
        }
       ],
       "layout": {
        "annotations": [
         {
          "font": {
           "size": 16
          },
          "showarrow": false,
          "text": "Region",
          "x": 0.13999999999999999,
          "xanchor": "center",
          "xref": "paper",
          "y": 1,
          "yanchor": "bottom",
          "yref": "paper"
         },
         {
          "font": {
           "size": 16
          },
          "showarrow": false,
          "text": "Loan Type",
          "x": 0.49999999999999994,
          "xanchor": "center",
          "xref": "paper",
          "y": 1,
          "yanchor": "bottom",
          "yref": "paper"
         },
         {
          "font": {
           "size": 16
          },
          "showarrow": false,
          "text": "Gender",
          "x": 0.86,
          "xanchor": "center",
          "xref": "paper",
          "y": 1,
          "yanchor": "bottom",
          "yref": "paper"
         },
         {
          "font": {
           "size": 16
          },
          "showarrow": false,
          "text": "Education Level",
          "x": 0.13999999999999999,
          "xanchor": "center",
          "xref": "paper",
          "y": 0.6266666666666667,
          "yanchor": "bottom",
          "yref": "paper"
         },
         {
          "font": {
           "size": 16
          },
          "showarrow": false,
          "text": "Job Title",
          "x": 0.49999999999999994,
          "xanchor": "center",
          "xref": "paper",
          "y": 0.6266666666666667,
          "yanchor": "bottom",
          "yref": "paper"
         },
         {
          "font": {
           "size": 16
          },
          "showarrow": false,
          "text": "Credit Bucket",
          "x": 0.86,
          "xanchor": "center",
          "xref": "paper",
          "y": 0.6266666666666667,
          "yanchor": "bottom",
          "yref": "paper"
         },
         {
          "font": {
           "size": 16
          },
          "showarrow": false,
          "text": "Employment Status",
          "x": 0.13999999999999999,
          "xanchor": "center",
          "xref": "paper",
          "y": 0.25333333333333335,
          "yanchor": "bottom",
          "yref": "paper"
         },
         {
          "font": {
           "size": 16
          },
          "showarrow": false,
          "text": "Has Loan",
          "x": 0.49999999999999994,
          "xanchor": "center",
          "xref": "paper",
          "y": 0.25333333333333335,
          "yanchor": "bottom",
          "yref": "paper"
         }
        ],
        "height": 1200,
        "legend": {
         "orientation": "h",
         "title": {
          "text": "Variável"
         },
         "x": 0.5,
         "xanchor": "center",
         "y": -0.2,
         "yanchor": "bottom"
        },
        "margin": {
         "b": 50,
         "l": 50,
         "r": 50,
         "t": 80
        },
        "template": {
         "data": {
          "bar": [
           {
            "error_x": {
             "color": "#2a3f5f"
            },
            "error_y": {
             "color": "#2a3f5f"
            },
            "marker": {
             "line": {
              "color": "#E5ECF6",
              "width": 0.5
             },
             "pattern": {
              "fillmode": "overlay",
              "size": 10,
              "solidity": 0.2
             }
            },
            "type": "bar"
           }
          ],
          "barpolar": [
           {
            "marker": {
             "line": {
              "color": "#E5ECF6",
              "width": 0.5
             },
             "pattern": {
              "fillmode": "overlay",
              "size": 10,
              "solidity": 0.2
             }
            },
            "type": "barpolar"
           }
          ],
          "carpet": [
           {
            "aaxis": {
             "endlinecolor": "#2a3f5f",
             "gridcolor": "white",
             "linecolor": "white",
             "minorgridcolor": "white",
             "startlinecolor": "#2a3f5f"
            },
            "baxis": {
             "endlinecolor": "#2a3f5f",
             "gridcolor": "white",
             "linecolor": "white",
             "minorgridcolor": "white",
             "startlinecolor": "#2a3f5f"
            },
            "type": "carpet"
           }
          ],
          "choropleth": [
           {
            "colorbar": {
             "outlinewidth": 0,
             "ticks": ""
            },
            "type": "choropleth"
           }
          ],
          "contour": [
           {
            "colorbar": {
             "outlinewidth": 0,
             "ticks": ""
            },
            "colorscale": [
             [
              0,
              "#0d0887"
             ],
             [
              0.1111111111111111,
              "#46039f"
             ],
             [
              0.2222222222222222,
              "#7201a8"
             ],
             [
              0.3333333333333333,
              "#9c179e"
             ],
             [
              0.4444444444444444,
              "#bd3786"
             ],
             [
              0.5555555555555556,
              "#d8576b"
             ],
             [
              0.6666666666666666,
              "#ed7953"
             ],
             [
              0.7777777777777778,
              "#fb9f3a"
             ],
             [
              0.8888888888888888,
              "#fdca26"
             ],
             [
              1,
              "#f0f921"
             ]
            ],
            "type": "contour"
           }
          ],
          "contourcarpet": [
           {
            "colorbar": {
             "outlinewidth": 0,
             "ticks": ""
            },
            "type": "contourcarpet"
           }
          ],
          "heatmap": [
           {
            "colorbar": {
             "outlinewidth": 0,
             "ticks": ""
            },
            "colorscale": [
             [
              0,
              "#0d0887"
             ],
             [
              0.1111111111111111,
              "#46039f"
             ],
             [
              0.2222222222222222,
              "#7201a8"
             ],
             [
              0.3333333333333333,
              "#9c179e"
             ],
             [
              0.4444444444444444,
              "#bd3786"
             ],
             [
              0.5555555555555556,
              "#d8576b"
             ],
             [
              0.6666666666666666,
              "#ed7953"
             ],
             [
              0.7777777777777778,
              "#fb9f3a"
             ],
             [
              0.8888888888888888,
              "#fdca26"
             ],
             [
              1,
              "#f0f921"
             ]
            ],
            "type": "heatmap"
           }
          ],
          "histogram": [
           {
            "marker": {
             "pattern": {
              "fillmode": "overlay",
              "size": 10,
              "solidity": 0.2
             }
            },
            "type": "histogram"
           }
          ],
          "histogram2d": [
           {
            "colorbar": {
             "outlinewidth": 0,
             "ticks": ""
            },
            "colorscale": [
             [
              0,
              "#0d0887"
             ],
             [
              0.1111111111111111,
              "#46039f"
             ],
             [
              0.2222222222222222,
              "#7201a8"
             ],
             [
              0.3333333333333333,
              "#9c179e"
             ],
             [
              0.4444444444444444,
              "#bd3786"
             ],
             [
              0.5555555555555556,
              "#d8576b"
             ],
             [
              0.6666666666666666,
              "#ed7953"
             ],
             [
              0.7777777777777778,
              "#fb9f3a"
             ],
             [
              0.8888888888888888,
              "#fdca26"
             ],
             [
              1,
              "#f0f921"
             ]
            ],
            "type": "histogram2d"
           }
          ],
          "histogram2dcontour": [
           {
            "colorbar": {
             "outlinewidth": 0,
             "ticks": ""
            },
            "colorscale": [
             [
              0,
              "#0d0887"
             ],
             [
              0.1111111111111111,
              "#46039f"
             ],
             [
              0.2222222222222222,
              "#7201a8"
             ],
             [
              0.3333333333333333,
              "#9c179e"
             ],
             [
              0.4444444444444444,
              "#bd3786"
             ],
             [
              0.5555555555555556,
              "#d8576b"
             ],
             [
              0.6666666666666666,
              "#ed7953"
             ],
             [
              0.7777777777777778,
              "#fb9f3a"
             ],
             [
              0.8888888888888888,
              "#fdca26"
             ],
             [
              1,
              "#f0f921"
             ]
            ],
            "type": "histogram2dcontour"
           }
          ],
          "mesh3d": [
           {
            "colorbar": {
             "outlinewidth": 0,
             "ticks": ""
            },
            "type": "mesh3d"
           }
          ],
          "parcoords": [
           {
            "line": {
             "colorbar": {
              "outlinewidth": 0,
              "ticks": ""
             }
            },
            "type": "parcoords"
           }
          ],
          "pie": [
           {
            "automargin": true,
            "type": "pie"
           }
          ],
          "scatter": [
           {
            "fillpattern": {
             "fillmode": "overlay",
             "size": 10,
             "solidity": 0.2
            },
            "type": "scatter"
           }
          ],
          "scatter3d": [
           {
            "line": {
             "colorbar": {
              "outlinewidth": 0,
              "ticks": ""
             }
            },
            "marker": {
             "colorbar": {
              "outlinewidth": 0,
              "ticks": ""
             }
            },
            "type": "scatter3d"
           }
          ],
          "scattercarpet": [
           {
            "marker": {
             "colorbar": {
              "outlinewidth": 0,
              "ticks": ""
             }
            },
            "type": "scattercarpet"
           }
          ],
          "scattergeo": [
           {
            "marker": {
             "colorbar": {
              "outlinewidth": 0,
              "ticks": ""
             }
            },
            "type": "scattergeo"
           }
          ],
          "scattergl": [
           {
            "marker": {
             "colorbar": {
              "outlinewidth": 0,
              "ticks": ""
             }
            },
            "type": "scattergl"
           }
          ],
          "scattermap": [
           {
            "marker": {
             "colorbar": {
              "outlinewidth": 0,
              "ticks": ""
             }
            },
            "type": "scattermap"
           }
          ],
          "scattermapbox": [
           {
            "marker": {
             "colorbar": {
              "outlinewidth": 0,
              "ticks": ""
             }
            },
            "type": "scattermapbox"
           }
          ],
          "scatterpolar": [
           {
            "marker": {
             "colorbar": {
              "outlinewidth": 0,
              "ticks": ""
             }
            },
            "type": "scatterpolar"
           }
          ],
          "scatterpolargl": [
           {
            "marker": {
             "colorbar": {
              "outlinewidth": 0,
              "ticks": ""
             }
            },
            "type": "scatterpolargl"
           }
          ],
          "scatterternary": [
           {
            "marker": {
             "colorbar": {
              "outlinewidth": 0,
              "ticks": ""
             }
            },
            "type": "scatterternary"
           }
          ],
          "surface": [
           {
            "colorbar": {
             "outlinewidth": 0,
             "ticks": ""
            },
            "colorscale": [
             [
              0,
              "#0d0887"
             ],
             [
              0.1111111111111111,
              "#46039f"
             ],
             [
              0.2222222222222222,
              "#7201a8"
             ],
             [
              0.3333333333333333,
              "#9c179e"
             ],
             [
              0.4444444444444444,
              "#bd3786"
             ],
             [
              0.5555555555555556,
              "#d8576b"
             ],
             [
              0.6666666666666666,
              "#ed7953"
             ],
             [
              0.7777777777777778,
              "#fb9f3a"
             ],
             [
              0.8888888888888888,
              "#fdca26"
             ],
             [
              1,
              "#f0f921"
             ]
            ],
            "type": "surface"
           }
          ],
          "table": [
           {
            "cells": {
             "fill": {
              "color": "#EBF0F8"
             },
             "line": {
              "color": "white"
             }
            },
            "header": {
             "fill": {
              "color": "#C8D4E3"
             },
             "line": {
              "color": "white"
             }
            },
            "type": "table"
           }
          ]
         },
         "layout": {
          "annotationdefaults": {
           "arrowcolor": "#2a3f5f",
           "arrowhead": 0,
           "arrowwidth": 1
          },
          "autotypenumbers": "strict",
          "coloraxis": {
           "colorbar": {
            "outlinewidth": 0,
            "ticks": ""
           }
          },
          "colorscale": {
           "diverging": [
            [
             0,
             "#8e0152"
            ],
            [
             0.1,
             "#c51b7d"
            ],
            [
             0.2,
             "#de77ae"
            ],
            [
             0.3,
             "#f1b6da"
            ],
            [
             0.4,
             "#fde0ef"
            ],
            [
             0.5,
             "#f7f7f7"
            ],
            [
             0.6,
             "#e6f5d0"
            ],
            [
             0.7,
             "#b8e186"
            ],
            [
             0.8,
             "#7fbc41"
            ],
            [
             0.9,
             "#4d9221"
            ],
            [
             1,
             "#276419"
            ]
           ],
           "sequential": [
            [
             0,
             "#0d0887"
            ],
            [
             0.1111111111111111,
             "#46039f"
            ],
            [
             0.2222222222222222,
             "#7201a8"
            ],
            [
             0.3333333333333333,
             "#9c179e"
            ],
            [
             0.4444444444444444,
             "#bd3786"
            ],
            [
             0.5555555555555556,
             "#d8576b"
            ],
            [
             0.6666666666666666,
             "#ed7953"
            ],
            [
             0.7777777777777778,
             "#fb9f3a"
            ],
            [
             0.8888888888888888,
             "#fdca26"
            ],
            [
             1,
             "#f0f921"
            ]
           ],
           "sequentialminus": [
            [
             0,
             "#0d0887"
            ],
            [
             0.1111111111111111,
             "#46039f"
            ],
            [
             0.2222222222222222,
             "#7201a8"
            ],
            [
             0.3333333333333333,
             "#9c179e"
            ],
            [
             0.4444444444444444,
             "#bd3786"
            ],
            [
             0.5555555555555556,
             "#d8576b"
            ],
            [
             0.6666666666666666,
             "#ed7953"
            ],
            [
             0.7777777777777778,
             "#fb9f3a"
            ],
            [
             0.8888888888888888,
             "#fdca26"
            ],
            [
             1,
             "#f0f921"
            ]
           ]
          },
          "colorway": [
           "#636efa",
           "#EF553B",
           "#00cc96",
           "#ab63fa",
           "#FFA15A",
           "#19d3f3",
           "#FF6692",
           "#B6E880",
           "#FF97FF",
           "#FECB52"
          ],
          "font": {
           "color": "#2a3f5f"
          },
          "geo": {
           "bgcolor": "white",
           "lakecolor": "white",
           "landcolor": "#E5ECF6",
           "showlakes": true,
           "showland": true,
           "subunitcolor": "white"
          },
          "hoverlabel": {
           "align": "left"
          },
          "hovermode": "closest",
          "mapbox": {
           "style": "light"
          },
          "paper_bgcolor": "white",
          "plot_bgcolor": "#E5ECF6",
          "polar": {
           "angularaxis": {
            "gridcolor": "white",
            "linecolor": "white",
            "ticks": ""
           },
           "bgcolor": "#E5ECF6",
           "radialaxis": {
            "gridcolor": "white",
            "linecolor": "white",
            "ticks": ""
           }
          },
          "scene": {
           "xaxis": {
            "backgroundcolor": "#E5ECF6",
            "gridcolor": "white",
            "gridwidth": 2,
            "linecolor": "white",
            "showbackground": true,
            "ticks": "",
            "zerolinecolor": "white"
           },
           "yaxis": {
            "backgroundcolor": "#E5ECF6",
            "gridcolor": "white",
            "gridwidth": 2,
            "linecolor": "white",
            "showbackground": true,
            "ticks": "",
            "zerolinecolor": "white"
           },
           "zaxis": {
            "backgroundcolor": "#E5ECF6",
            "gridcolor": "white",
            "gridwidth": 2,
            "linecolor": "white",
            "showbackground": true,
            "ticks": "",
            "zerolinecolor": "white"
           }
          },
          "shapedefaults": {
           "line": {
            "color": "#2a3f5f"
           }
          },
          "ternary": {
           "aaxis": {
            "gridcolor": "white",
            "linecolor": "white",
            "ticks": ""
           },
           "baxis": {
            "gridcolor": "white",
            "linecolor": "white",
            "ticks": ""
           },
           "bgcolor": "#E5ECF6",
           "caxis": {
            "gridcolor": "white",
            "linecolor": "white",
            "ticks": ""
           }
          },
          "title": {
           "x": 0.05
          },
          "xaxis": {
           "automargin": true,
           "gridcolor": "white",
           "linecolor": "white",
           "ticks": "",
           "title": {
            "standoff": 15
           },
           "zerolinecolor": "white",
           "zerolinewidth": 2
          },
          "yaxis": {
           "automargin": true,
           "gridcolor": "white",
           "linecolor": "white",
           "ticks": "",
           "title": {
            "standoff": 15
           },
           "zerolinecolor": "white",
           "zerolinewidth": 2
          }
         }
        },
        "title": {
         "font": {
          "size": 24
         },
         "text": "Distribuição de Variáveis Categóricas",
         "x": 0.5
        },
        "width": 2100,
        "xaxis": {
         "anchor": "y",
         "domain": [
          0,
          0.27999999999999997
         ]
        },
        "xaxis2": {
         "anchor": "y2",
         "domain": [
          0.36,
          0.6399999999999999
         ]
        },
        "xaxis3": {
         "anchor": "y3",
         "domain": [
          0.72,
          1
         ]
        },
        "xaxis4": {
         "anchor": "y4",
         "domain": [
          0,
          0.27999999999999997
         ]
        },
        "xaxis5": {
         "anchor": "y5",
         "domain": [
          0.36,
          0.6399999999999999
         ]
        },
        "xaxis6": {
         "anchor": "y6",
         "domain": [
          0.72,
          1
         ]
        },
        "xaxis7": {
         "anchor": "y7",
         "domain": [
          0,
          0.27999999999999997
         ]
        },
        "xaxis8": {
         "anchor": "y8",
         "domain": [
          0.36,
          0.6399999999999999
         ]
        },
        "xaxis9": {
         "anchor": "y9",
         "domain": [
          0.72,
          1
         ]
        },
        "yaxis": {
         "anchor": "x",
         "domain": [
          0.7466666666666667,
          1
         ]
        },
        "yaxis2": {
         "anchor": "x2",
         "domain": [
          0.7466666666666667,
          1
         ]
        },
        "yaxis3": {
         "anchor": "x3",
         "domain": [
          0.7466666666666667,
          1
         ]
        },
        "yaxis4": {
         "anchor": "x4",
         "domain": [
          0.37333333333333335,
          0.6266666666666667
         ]
        },
        "yaxis5": {
         "anchor": "x5",
         "domain": [
          0.37333333333333335,
          0.6266666666666667
         ]
        },
        "yaxis6": {
         "anchor": "x6",
         "domain": [
          0.37333333333333335,
          0.6266666666666667
         ]
        },
        "yaxis7": {
         "anchor": "x7",
         "domain": [
          0,
          0.25333333333333335
         ]
        },
        "yaxis8": {
         "anchor": "x8",
         "domain": [
          0,
          0.25333333333333335
         ]
        },
        "yaxis9": {
         "anchor": "x9",
         "domain": [
          0,
          0.25333333333333335
         ]
        }
       }
      }
     },
     "metadata": {},
     "output_type": "display_data"
    }
   ],
   "source": [
    "plot_multiple_categorical(df, categorical_cols)"
   ]
  },
  {
   "cell_type": "code",
   "execution_count": null,
   "id": "ffe17c54",
   "metadata": {},
   "outputs": [],
   "source": []
  },
  {
   "cell_type": "code",
   "execution_count": null,
   "id": "e4090903",
   "metadata": {},
   "outputs": [],
   "source": []
  },
  {
   "cell_type": "code",
   "execution_count": null,
   "id": "e13f1eeb",
   "metadata": {},
   "outputs": [],
   "source": []
  },
  {
   "cell_type": "code",
   "execution_count": null,
   "id": "a5bf6fc2",
   "metadata": {},
   "outputs": [],
   "source": []
  },
  {
   "cell_type": "code",
   "execution_count": null,
   "id": "10e87685",
   "metadata": {},
   "outputs": [],
   "source": []
  },
  {
   "cell_type": "code",
   "execution_count": null,
   "id": "e92c1ecf",
   "metadata": {},
   "outputs": [],
   "source": []
  },
  {
   "cell_type": "code",
   "execution_count": null,
   "id": "e61caf90",
   "metadata": {},
   "outputs": [],
   "source": []
  },
  {
   "cell_type": "code",
   "execution_count": null,
   "id": "ba3437bd",
   "metadata": {},
   "outputs": [],
   "source": []
  }
 ],
 "metadata": {
  "kernelspec": {
   "display_name": "3.13.1",
   "language": "python",
   "name": "python3"
  },
  "language_info": {
   "codemirror_mode": {
    "name": "ipython",
    "version": 3
   },
   "file_extension": ".py",
   "mimetype": "text/x-python",
   "name": "python",
   "nbconvert_exporter": "python",
   "pygments_lexer": "ipython3",
   "version": "3.13.1"
  }
 },
 "nbformat": 4,
 "nbformat_minor": 5
}
