{
 "cells": [
  {
   "cell_type": "markdown",
   "id": "3b6f4fdd",
   "metadata": {},
   "source": [
    "##### Importações"
   ]
  },
  {
   "cell_type": "code",
   "execution_count": 9,
   "id": "cb3594ab",
   "metadata": {},
   "outputs": [],
   "source": [
    "import pandas as pd"
   ]
  },
  {
   "cell_type": "code",
   "execution_count": 10,
   "id": "7900e68b",
   "metadata": {},
   "outputs": [],
   "source": [
    "df = pd.read_csv(\"../data/transformed/transformed_finance_data.csv\")"
   ]
  },
  {
   "cell_type": "code",
   "execution_count": 11,
   "id": "405bb905",
   "metadata": {},
   "outputs": [
    {
     "name": "stdout",
     "output_type": "stream",
     "text": [
      "<class 'pandas.core.frame.DataFrame'>\n",
      "RangeIndex: 32424 entries, 0 to 32423\n",
      "Data columns (total 35 columns):\n",
      " #   Column                       Non-Null Count  Dtype  \n",
      "---  ------                       --------------  -----  \n",
      " 0   user_id                      32424 non-null  object \n",
      " 1   age                          32424 non-null  int64  \n",
      " 2   gender                       32424 non-null  object \n",
      " 3   education_level              32424 non-null  object \n",
      " 4   employment_status            32424 non-null  object \n",
      " 5   job_title                    32424 non-null  object \n",
      " 6   monthly_income_usd           32424 non-null  float64\n",
      " 7   monthly_expenses_usd         32424 non-null  float64\n",
      " 8   savings_usd                  32424 non-null  float64\n",
      " 9   has_loan                     32424 non-null  object \n",
      " 10  loan_type                    12995 non-null  object \n",
      " 11  loan_amount_usd              32424 non-null  float64\n",
      " 12  loan_term_months             32424 non-null  int64  \n",
      " 13  monthly_emi_usd              32424 non-null  float64\n",
      " 14  loan_interest_rate_pct       32424 non-null  float64\n",
      " 15  debt_to_income_ratio         32424 non-null  float64\n",
      " 16  credit_score                 32424 non-null  int64  \n",
      " 17  savings_to_income_ratio      32424 non-null  float64\n",
      " 18  region                       32424 non-null  object \n",
      " 19  record_date                  32424 non-null  object \n",
      " 20  record_year                  32424 non-null  int64  \n",
      " 21  record_month                 32424 non-null  int64  \n",
      " 22  record_day                   32424 non-null  int64  \n",
      " 23  record_weekday               32424 non-null  int64  \n",
      " 24  record_quarter               32424 non-null  int64  \n",
      " 25  record_is_month_end          32424 non-null  int64  \n",
      " 26  net_income_usd               32424 non-null  float64\n",
      " 27  expense_ratio                32424 non-null  float64\n",
      " 28  emi_to_income_ratio          32424 non-null  float64\n",
      " 29  savings_rate_monthly         32424 non-null  float64\n",
      " 30  debt_to_income_ratio_filled  32424 non-null  float64\n",
      " 31  credit_bucket                32424 non-null  object \n",
      " 32  loan_term_years              32424 non-null  float64\n",
      " 33  loan_active                  32424 non-null  int64  \n",
      " 34  financial_stress_score       32424 non-null  float64\n",
      "dtypes: float64(15), int64(10), object(10)\n",
      "memory usage: 8.7+ MB\n"
     ]
    }
   ],
   "source": [
    "df.info()"
   ]
  },
  {
   "cell_type": "markdown",
   "id": "295b22cc",
   "metadata": {},
   "source": [
    "##### Métricas"
   ]
  },
  {
   "cell_type": "code",
   "execution_count": 12,
   "id": "b2eb6209",
   "metadata": {},
   "outputs": [
    {
     "name": "stdout",
     "output_type": "stream",
     "text": [
      "🔹 O tipo de empréstimo mais associado ao estresse financeiro é 'Car', com score médio de 0.47.\n"
     ]
    }
   ],
   "source": [
    "risky_loan = df[df['loan_active']==1].groupby('loan_type')['financial_stress_score'].mean().idxmax()\n",
    "risky_val = df[df['loan_active']==1].groupby('loan_type')['financial_stress_score'].mean().max()\n",
    "\n",
    "print(f\"🔹 O tipo de empréstimo mais associado ao estresse financeiro é '{risky_loan}', com score médio de {risky_val:.2f}.\")"
   ]
  },
  {
   "cell_type": "code",
   "execution_count": 13,
   "id": "440cf1ac",
   "metadata": {},
   "outputs": [
    {
     "data": {
      "text/plain": [
       "user_id                            0\n",
       "age                                0\n",
       "gender                             0\n",
       "education_level                    0\n",
       "employment_status                  0\n",
       "job_title                          0\n",
       "monthly_income_usd                 0\n",
       "monthly_expenses_usd               0\n",
       "savings_usd                        0\n",
       "has_loan                           0\n",
       "loan_type                      19429\n",
       "loan_amount_usd                    0\n",
       "loan_term_months                   0\n",
       "monthly_emi_usd                    0\n",
       "loan_interest_rate_pct             0\n",
       "debt_to_income_ratio               0\n",
       "credit_score                       0\n",
       "savings_to_income_ratio            0\n",
       "region                             0\n",
       "record_date                        0\n",
       "record_year                        0\n",
       "record_month                       0\n",
       "record_day                         0\n",
       "record_weekday                     0\n",
       "record_quarter                     0\n",
       "record_is_month_end                0\n",
       "net_income_usd                     0\n",
       "expense_ratio                      0\n",
       "emi_to_income_ratio                0\n",
       "savings_rate_monthly               0\n",
       "debt_to_income_ratio_filled        0\n",
       "credit_bucket                      0\n",
       "loan_term_years                    0\n",
       "loan_active                        0\n",
       "financial_stress_score             0\n",
       "dtype: int64"
      ]
     },
     "execution_count": 13,
     "metadata": {},
     "output_type": "execute_result"
    }
   ],
   "source": [
    "df.isnull().sum()"
   ]
  },
  {
   "cell_type": "code",
   "execution_count": null,
   "id": "23e85652",
   "metadata": {},
   "outputs": [],
   "source": []
  },
  {
   "cell_type": "code",
   "execution_count": null,
   "id": "0bb31ac0",
   "metadata": {},
   "outputs": [],
   "source": []
  },
  {
   "cell_type": "code",
   "execution_count": null,
   "id": "52147e80",
   "metadata": {},
   "outputs": [],
   "source": []
  },
  {
   "cell_type": "code",
   "execution_count": null,
   "id": "4b2cb3e1",
   "metadata": {},
   "outputs": [],
   "source": []
  }
 ],
 "metadata": {
  "kernelspec": {
   "display_name": "3.13.1",
   "language": "python",
   "name": "python3"
  },
  "language_info": {
   "codemirror_mode": {
    "name": "ipython",
    "version": 3
   },
   "file_extension": ".py",
   "mimetype": "text/x-python",
   "name": "python",
   "nbconvert_exporter": "python",
   "pygments_lexer": "ipython3",
   "version": "3.13.1"
  }
 },
 "nbformat": 4,
 "nbformat_minor": 5
}
