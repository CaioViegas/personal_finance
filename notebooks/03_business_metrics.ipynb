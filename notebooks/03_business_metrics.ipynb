{
 "cells": [
  {
   "cell_type": "markdown",
   "id": "3b6f4fdd",
   "metadata": {},
   "source": [
    "##### Importações"
   ]
  },
  {
   "cell_type": "code",
   "execution_count": 1,
   "id": "cb3594ab",
   "metadata": {},
   "outputs": [],
   "source": [
    "import pandas as pd"
   ]
  },
  {
   "cell_type": "code",
   "execution_count": 3,
   "id": "7900e68b",
   "metadata": {},
   "outputs": [],
   "source": [
    "df = pd.read_csv(\"../data/transformed/transformed_financial_dataset.csv\")"
   ]
  },
  {
   "cell_type": "code",
   "execution_count": 4,
   "id": "405bb905",
   "metadata": {},
   "outputs": [
    {
     "name": "stdout",
     "output_type": "stream",
     "text": [
      "<class 'pandas.core.frame.DataFrame'>\n",
      "RangeIndex: 32424 entries, 0 to 32423\n",
      "Data columns (total 25 columns):\n",
      " #   Column                   Non-Null Count  Dtype  \n",
      "---  ------                   --------------  -----  \n",
      " 0   age                      32424 non-null  float64\n",
      " 1   gender                   32424 non-null  object \n",
      " 2   education_level          32424 non-null  object \n",
      " 3   employment_status        32424 non-null  object \n",
      " 4   job_title                32424 non-null  object \n",
      " 5   monthly_income_usd       32424 non-null  float64\n",
      " 6   monthly_expenses_usd     32424 non-null  float64\n",
      " 7   savings_usd              32424 non-null  float64\n",
      " 8   has_loan                 32424 non-null  object \n",
      " 9   loan_type                32424 non-null  object \n",
      " 10  loan_amount_usd          32424 non-null  float64\n",
      " 11  loan_term_months         32424 non-null  float64\n",
      " 12  monthly_emi_usd          32424 non-null  float64\n",
      " 13  loan_interest_rate_pct   32424 non-null  float64\n",
      " 14  debt_to_income_ratio     32424 non-null  float64\n",
      " 15  credit_score             32424 non-null  float64\n",
      " 16  savings_to_income_ratio  32424 non-null  float64\n",
      " 17  region                   32424 non-null  object \n",
      " 18  record_year              32424 non-null  int64  \n",
      " 19  record_month             32424 non-null  int64  \n",
      " 20  record_quarter           32424 non-null  int64  \n",
      " 21  record_is_month_end      32424 non-null  int64  \n",
      " 22  disposable_income        32424 non-null  float64\n",
      " 23  loan_to_income_ratio     32424 non-null  float64\n",
      " 24  credit_score_bucket      32424 non-null  object \n",
      "dtypes: float64(13), int64(4), object(8)\n",
      "memory usage: 6.2+ MB\n"
     ]
    }
   ],
   "source": [
    "df.info()"
   ]
  },
  {
   "cell_type": "markdown",
   "id": "295b22cc",
   "metadata": {},
   "source": [
    "##### Métricas"
   ]
  },
  {
   "cell_type": "code",
   "execution_count": 7,
   "id": "23e85652",
   "metadata": {},
   "outputs": [],
   "source": [
    "loan_holders = df[\"has_loan\"].eq(\"Yes\").mean()\n",
    "main_loan_type = df.loc[df[\"has_loan\"].eq(\"Yes\"), \"loan_type\"].mode()[0]\n",
    "high_loan_burden = (df[\"loan_to_income_ratio\"] > 0.5).mean()"
   ]
  },
  {
   "cell_type": "code",
   "execution_count": 11,
   "id": "0bb31ac0",
   "metadata": {},
   "outputs": [
    {
     "name": "stdout",
     "output_type": "stream",
     "text": [
      "Aproximadamente 40% das pessoas possuem empréstimos ativos. \n",
      "O tipo de empréstimo mais comum é 'Home', mostrando onde está a maior concentração de crédito. \n",
      "Além disso, 40% comprometem mais da metade da sua renda mensal com dívidas, o que indica risco elevado de inadimplência.\n"
     ]
    }
   ],
   "source": [
    "print(f\"Aproximadamente {loan_holders:.0%} das pessoas possuem empréstimos ativos. \"\n",
    "      f\"\\nO tipo de empréstimo mais comum é '{main_loan_type}', mostrando onde está a maior concentração de crédito. \"\n",
    "      f\"\\nAlém disso, {high_loan_burden:.0%} comprometem mais da metade da sua renda mensal com dívidas, o que indica risco elevado de inadimplência.\")"
   ]
  },
  {
   "cell_type": "code",
   "execution_count": 12,
   "id": "52147e80",
   "metadata": {},
   "outputs": [],
   "source": [
    "poor_credit = df[\"credit_score_bucket\"].eq(\"Poor\").mean()\n",
    "good_credit = df[\"credit_score_bucket\"].isin([\"Good\", \"Very Good\", \"Excellent\"]).mean()"
   ]
  },
  {
   "cell_type": "code",
   "execution_count": 16,
   "id": "4b2cb3e1",
   "metadata": {},
   "outputs": [
    {
     "name": "stdout",
     "output_type": "stream",
     "text": [
      "Cerca de 51% dos clientes apresentam crédito 'Poor', sinalizando alta vulnerabilidade financeira. \n",
      "Por outro lado, 33% estão em faixas de crédito consideradas seguras, o que pode representar oportunidades para produtos financeiros premium.\n"
     ]
    }
   ],
   "source": [
    "print(f\"Cerca de {poor_credit:.0%} dos clientes apresentam crédito 'Poor', sinalizando alta vulnerabilidade financeira. \"\n",
    "      f\"\\nPor outro lado, {good_credit:.0%} estão em faixas de crédito consideradas seguras, o que pode representar oportunidades para produtos financeiros premium.\")"
   ]
  },
  {
   "cell_type": "code",
   "execution_count": 15,
   "id": "1ccc63d4",
   "metadata": {},
   "outputs": [],
   "source": [
    "over_spenders = (df[\"monthly_expenses_usd\"] > df[\"monthly_income_usd\"]).mean()\n",
    "negative_disposable_income = (df[\"disposable_income\"] < 0).mean()"
   ]
  },
  {
   "cell_type": "code",
   "execution_count": 19,
   "id": "9d64b689",
   "metadata": {},
   "outputs": [
    {
     "name": "stdout",
     "output_type": "stream",
     "text": [
      "0% das pessoas gastam mais do que recebem mensalmente, e 0% já apresentam renda disponível negativa. \n",
      "Isso reforça a necessidade de estratégias de educação financeira e produtos de crédito controlado.\n"
     ]
    }
   ],
   "source": [
    "print(f\"{over_spenders:.0%} das pessoas gastam mais do que recebem mensalmente, e {negative_disposable_income:.0%} já apresentam renda disponível negativa. \"\n",
    "      \"\\nIsso reforça a necessidade de estratégias de educação financeira e produtos de crédito controlado.\")"
   ]
  },
  {
   "cell_type": "code",
   "execution_count": 20,
   "id": "a45622c7",
   "metadata": {},
   "outputs": [],
   "source": [
    "top_region = df[\"region\"].value_counts(normalize=True).idxmax()\n",
    "top_region_pct = df[\"region\"].value_counts(normalize=True).max()"
   ]
  },
  {
   "cell_type": "code",
   "execution_count": 22,
   "id": "67a99c73",
   "metadata": {},
   "outputs": [
    {
     "name": "stdout",
     "output_type": "stream",
     "text": [
      "A região com maior concentração de registros é North America, representando 20% de toda a base. \n",
      "Esse mercado pode ser priorizado em campanhas, já que concentra a maior parte dos clientes.\n"
     ]
    }
   ],
   "source": [
    "print(f\"A região com maior concentração de registros é {top_region}, representando {top_region_pct:.0%} de toda a base. \"\n",
    "      \"\\nEsse mercado pode ser priorizado em campanhas, já que concentra a maior parte dos clientes.\")"
   ]
  },
  {
   "cell_type": "code",
   "execution_count": 23,
   "id": "fee08965",
   "metadata": {},
   "outputs": [],
   "source": [
    "heavy_debtors = (df[\"loan_to_income_ratio\"] > 1).mean()\n",
    "moderate_debtors = df[\"loan_to_income_ratio\"].between(0.3, 1).mean()"
   ]
  },
  {
   "cell_type": "code",
   "execution_count": 25,
   "id": "7421a982",
   "metadata": {},
   "outputs": [
    {
     "name": "stdout",
     "output_type": "stream",
     "text": [
      "40% dos clientes possuem dívidas que superam sua renda anual, o que indica forte risco de insolvência. \n",
      "Já 0% estão em um nível moderado de endividamento, sendo potenciais alvos para produtos de renegociação.\n"
     ]
    }
   ],
   "source": [
    "print(f\"{heavy_debtors:.0%} dos clientes possuem dívidas que superam sua renda anual, o que indica forte risco de insolvência. \"\n",
    "      f\"\\nJá {moderate_debtors:.0%} estão em um nível moderado de endividamento, sendo potenciais alvos para produtos de renegociação.\")"
   ]
  },
  {
   "cell_type": "code",
   "execution_count": 26,
   "id": "b20ecf1b",
   "metadata": {},
   "outputs": [],
   "source": [
    "credit_dependents = (df[\"monthly_emi_usd\"] > df[\"disposable_income\"]).mean()"
   ]
  },
  {
   "cell_type": "code",
   "execution_count": 27,
   "id": "5ecbeefc",
   "metadata": {},
   "outputs": [
    {
     "name": "stdout",
     "output_type": "stream",
     "text": [
      "33% das pessoas comprometem mais com parcelas de empréstimos do que conseguem guardar em renda disponível. \n",
      "Esse grupo depende fortemente de crédito para manter o consumo.\n"
     ]
    }
   ],
   "source": [
    "print(f\"{credit_dependents:.0%} das pessoas comprometem mais com parcelas de empréstimos do que conseguem guardar em renda disponível. \"\n",
    "      \"\\nEsse grupo depende fortemente de crédito para manter o consumo.\")"
   ]
  },
  {
   "cell_type": "code",
   "execution_count": 28,
   "id": "b9610eb0",
   "metadata": {},
   "outputs": [],
   "source": [
    "financial_stress = (df[\"debt_to_income_ratio\"] > 40).mean()"
   ]
  },
  {
   "cell_type": "code",
   "execution_count": 31,
   "id": "6f1cfd1a",
   "metadata": {},
   "outputs": [],
   "source": [
    "median_savings_ratio = df[\"savings_to_income_ratio\"].median()\n",
    "rich_savers = (df[\"savings_to_income_ratio\"] > 2).mean()"
   ]
  },
  {
   "cell_type": "code",
   "execution_count": 32,
   "id": "30519842",
   "metadata": {},
   "outputs": [
    {
     "name": "stdout",
     "output_type": "stream",
     "text": [
      "O cliente mediano poupa o equivalente a 5.04 vezes sua renda anual. \n",
      "Porém, apenas 81% conseguem acumular mais que o dobro da renda em poupança, indicando alta concentração de riqueza em poucos indivíduos.\n"
     ]
    }
   ],
   "source": [
    "print(f\"O cliente mediano poupa o equivalente a {median_savings_ratio:.2f} vezes sua renda anual. \"\n",
    "      f\"\\nPorém, apenas {rich_savers:.0%} conseguem acumular mais que o dobro da renda em poupança, indicando alta concentração de riqueza em poucos indivíduos.\")"
   ]
  },
  {
   "cell_type": "code",
   "execution_count": 33,
   "id": "3453c329",
   "metadata": {},
   "outputs": [],
   "source": [
    "essential_spenders = (df[\"monthly_expenses_usd\"] / df[\"monthly_income_usd\"]).median()"
   ]
  },
  {
   "cell_type": "code",
   "execution_count": 34,
   "id": "fd5b79aa",
   "metadata": {},
   "outputs": [
    {
     "name": "stdout",
     "output_type": "stream",
     "text": [
      "O gasto mediano da população corresponde a 60% da renda mensal, mostrando que a maioria compromete grande parte dos ganhos com despesas fixas.\n"
     ]
    }
   ],
   "source": [
    "print(f\"O gasto mediano da população corresponde a {essential_spenders:.0%} da renda mensal, mostrando que a maioria compromete grande parte dos ganhos com despesas fixas.\")"
   ]
  },
  {
   "cell_type": "code",
   "execution_count": 35,
   "id": "093f5710",
   "metadata": {},
   "outputs": [],
   "source": [
    "no_investment_capacity = (df[\"disposable_income\"] < 200).mean()"
   ]
  },
  {
   "cell_type": "code",
   "execution_count": 36,
   "id": "13234f59",
   "metadata": {},
   "outputs": [
    {
     "name": "stdout",
     "output_type": "stream",
     "text": [
      "3% dos clientes fecham o mês com menos de USD 200 de sobra, sendo pouco atrativos para produtos de investimento, mas candidatos a linhas de crédito emergenciais.\n"
     ]
    }
   ],
   "source": [
    "print(f\"{no_investment_capacity:.0%} dos clientes fecham o mês com menos de USD 200 de sobra, sendo pouco atrativos para produtos de investimento, mas candidatos a linhas de crédito emergenciais.\")"
   ]
  },
  {
   "cell_type": "code",
   "execution_count": 37,
   "id": "9062edb4",
   "metadata": {},
   "outputs": [],
   "source": [
    "high_interest_loans = (df[\"loan_interest_rate_pct\"] > 20).mean()"
   ]
  },
  {
   "cell_type": "code",
   "execution_count": 38,
   "id": "e8ea1b4f",
   "metadata": {},
   "outputs": [
    {
     "name": "stdout",
     "output_type": "stream",
     "text": [
      "15% dos empréstimos ativos têm taxas de juros acima de 20%. \n",
      "Isso coloca parte relevante da carteira em risco de inadimplência devido ao custo elevado do crédito.\n"
     ]
    }
   ],
   "source": [
    "print(f\"{high_interest_loans:.0%} dos empréstimos ativos têm taxas de juros acima de 20%. \"\n",
    "      \"\\nIsso coloca parte relevante da carteira em risco de inadimplência devido ao custo elevado do crédito.\")"
   ]
  }
 ],
 "metadata": {
  "kernelspec": {
   "display_name": "3.13.1",
   "language": "python",
   "name": "python3"
  },
  "language_info": {
   "codemirror_mode": {
    "name": "ipython",
    "version": 3
   },
   "file_extension": ".py",
   "mimetype": "text/x-python",
   "name": "python",
   "nbconvert_exporter": "python",
   "pygments_lexer": "ipython3",
   "version": "3.13.1"
  }
 },
 "nbformat": 4,
 "nbformat_minor": 5
}
